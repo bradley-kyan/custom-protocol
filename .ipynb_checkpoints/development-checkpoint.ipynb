{
 "cells": [
  {
   "cell_type": "markdown",
   "id": "dafb6fe8",
   "metadata": {},
   "source": [
    "# Creating Custom Protocols Using Scapy\n",
    "\n",
    "Scapy allows for packet creation and manipulation of network packets. It allows for packets to be crafted and sent. Under the hood it uses the `socket` library.\n",
    "Scapy needs to be installed as root in order to have sufficient permissions."
   ]
  },
  {
   "cell_type": "markdown",
   "id": "0a27cc2f",
   "metadata": {},
   "source": [
    "Packets are crafted in a stack manner where each part of the packet it an object.\n",
    "For example a packet can be crafted with the following:"
   ]
  },
  {
   "cell_type": "code",
   "execution_count": 1,
   "id": "5fd4977b",
   "metadata": {},
   "outputs": [
    {
     "name": "stdout",
     "output_type": "stream",
     "text": [
      "IP / TCP 127.0.0.1:ftp_data > 127.0.0.1:http S\n"
     ]
    }
   ],
   "source": [
    "import scapy.all as scapy\n",
    "from scapy.all import *\n",
    "\n",
    "packet = IP() / TCP() # An empty IP() defaults to our loopback address.\n",
    "print(packet.summary())"
   ]
  },
  {
   "cell_type": "markdown",
   "id": "dc10bb70",
   "metadata": {},
   "source": [
    "We can also add the Ethernet header to our packet. Like a stack, each portion is stacked on one another."
   ]
  },
  {
   "cell_type": "code",
   "execution_count": 2,
   "id": "f0c3f843",
   "metadata": {},
   "outputs": [
    {
     "name": "stdout",
     "output_type": "stream",
     "text": [
      "Ether / IP / TCP 127.0.0.1:ftp_data > 127.0.0.1:http S\n"
     ]
    }
   ],
   "source": [
    "ether = Ether() / packet\n",
    "print(ether.summary())"
   ]
  },
  {
   "cell_type": "markdown",
   "id": "f2f9140a",
   "metadata": {},
   "source": [
    "Packets can be sent over the network using the `sr1() / sr()` function will send the packet and wait for the response. `srp1() / srp()` sends and recieves layer 2 packets."
   ]
  },
  {
   "cell_type": "code",
   "execution_count": 3,
   "id": "15651c01",
   "metadata": {},
   "outputs": [
    {
     "name": "stdout",
     "output_type": "stream",
     "text": [
      "Begin emission\n",
      ".\n",
      "Finished sending 6 packets\n",
      "*****\n",
      "Received 7 packets, got 6 answers, remaining 0 packets*\n",
      "<Results: TCP:0 UDP:3 ICMP:3 Other:0> <Unanswered: TCP:0 UDP:0 ICMP:0 Other:0>\n"
     ]
    }
   ],
   "source": [
    "r, u = srp(Ether() / IP(dst=\"8.8.8.8\", ttl=(5, 10)) / UDP() / DNS())\n",
    "print(r, u)"
   ]
  },
  {
   "cell_type": "code",
   "execution_count": 4,
   "id": "1de536a8",
   "metadata": {},
   "outputs": [],
   "source": [
    "ans, unans = srloop(IP(dst=[\"8.8.8.8\", \"8.8.4.4\"])/ICMP(), inter=.1, timeout=.1, count=100, verbose=False)\n"
   ]
  },
  {
   "cell_type": "code",
   "execution_count": 5,
   "id": "353c4f4f",
   "metadata": {},
   "outputs": [
    {
     "data": {
      "text/plain": [
       "[[<matplotlib.lines.Line2D at 0x7fa372c3b280>],\n",
       " [<matplotlib.lines.Line2D at 0x7fa372c3b580>]]"
      ]
     },
     "execution_count": 5,
     "metadata": {},
     "output_type": "execute_result"
    },
    {
     "data": {
      "image/png": "[encoded data removed]",
      "text/plain": [
       "<Figure size 432x288 with 1 Axes>"
      ]
     },
     "metadata": {
      "needs_background": "light"
     },
     "output_type": "display_data"
    }
   ],
   "source": [
    "%matplotlib inline\n",
    "ans.multiplot(lambda x, y: (y[IP].src, (y.time, y[IP].id)), plot_xy=True)"
   ]
  }
 ],
 "metadata": {
  "kernelspec": {
   "display_name": "Python 3 (ipykernel)",
   "language": "python",
   "name": "python3"
  },
  "language_info": {
   "codemirror_mode": {
    "name": "ipython",
    "version": 3
   },
   "file_extension": ".py",
   "mimetype": "text/x-python",
   "name": "python",
   "nbconvert_exporter": "python",
   "pygments_lexer": "ipython3",
   "version": "3.10.12"
  }
 },
 "nbformat": 4,
 "nbformat_minor": 5
}
