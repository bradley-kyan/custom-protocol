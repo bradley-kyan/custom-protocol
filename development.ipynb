{
 "cells": [
  {
   "cell_type": "markdown",
   "id": "dafb6fe8",
   "metadata": {},
   "source": [
    "# How Scapy Works\n",
    "Scapy allows for packet creation and manipulation of network packets. It allows for packets to be crafted and sent. Under the hood it uses the `socket` library.\n",
    "Scapy needs to be installed as root in order to have sufficient permissions."
   ]
  },
  {
   "cell_type": "markdown",
   "id": "0a27cc2f",
   "metadata": {},
   "source": [
    "Packets are crafted in a stack manner following the OSI model where each part of the packet it an object.\n",
    "For example a packet can be crafted with the following:"
   ]
  },
  {
   "cell_type": "code",
   "execution_count": 305,
   "id": "5fd4977b",
   "metadata": {},
   "outputs": [
    {
     "name": "stdout",
     "output_type": "stream",
     "text": [
      "IP / TCP 127.0.0.1:ftp_data > 127.0.0.1:http S\n"
     ]
    }
   ],
   "source": [
    "import scapy.all as scapy\n",
    "from scapy.all import *\n",
    "\n",
    "# Packet where layer 2 is Ethernet, layer 3 is IP, and layer 4 is TCP.\n",
    "packet = IP() / TCP() # An empty IP() defaults to our loopback address.\n",
    "print(packet.summary())"
   ]
  },
  {
   "cell_type": "markdown",
   "id": "dc10bb70",
   "metadata": {},
   "source": [
    "We can also add the Ethernet header to our packet. Like a stack, each portion is stacked on one another."
   ]
  },
  {
   "cell_type": "code",
   "execution_count": 306,
   "id": "f0c3f843",
   "metadata": {},
   "outputs": [
    {
     "name": "stdout",
     "output_type": "stream",
     "text": [
      "Ether / IP / TCP 127.0.0.1:ftp_data > 127.0.0.1:http S\n"
     ]
    }
   ],
   "source": [
    "ether = Ether() / packet\n",
    "print(ether.summary())"
   ]
  },
  {
   "cell_type": "markdown",
   "id": "f2f9140a",
   "metadata": {},
   "source": [
    "Packets can be sent over the network using the `sr1() / sr()` function will send the packet and wait for the response. `srp1() / srp()` sends and recieves layer 2 packets."
   ]
  },
  {
   "cell_type": "code",
   "execution_count": 307,
   "id": "15651c01",
   "metadata": {},
   "outputs": [
    {
     "name": "stdout",
     "output_type": "stream",
     "text": [
      "Begin emission\n",
      ".\n",
      "Finished sending 6 packets\n",
      "*****\n",
      "Received 7 packets, got 6 answers, remaining 0 packets\n",
      "*<Results: TCP:0 UDP:3 ICMP:3 Other:0> <Unanswered: TCP:0 UDP:0 ICMP:0 Other:0>\n"
     ]
    }
   ],
   "source": [
    "r, u = srp(Ether() / IP(dst=\"8.8.8.8\", ttl=(5, 10)) / UDP() / DNS())\n",
    "print(r, u)"
   ]
  },
  {
   "cell_type": "markdown",
   "id": "511546bb",
   "metadata": {},
   "source": [
    "We can also create a sessions using the `sniff` function. We can defragment IP packts using `IPSession` or certain TCP protocols using `TCPSession`."
   ]
  },
  {
   "cell_type": "code",
   "execution_count": 308,
   "id": "c199bb2a",
   "metadata": {},
   "outputs": [
    {
     "data": {
      "text/plain": [
       "<Sniffed: TCP:3 UDP:5 ICMP:0 Other:2>"
      ]
     },
     "execution_count": 308,
     "metadata": {},
     "output_type": "execute_result"
    }
   ],
   "source": [
    "# Creat an IPSession\n",
    "\n",
    "session = IPSession()\n",
    "sniff(session=IPSession, iface=\"eth0\", count=10)"
   ]
  },
  {
   "cell_type": "markdown",
   "id": "b4f43ee2",
   "metadata": {},
   "source": [
    "We can also have have the sniff command run a funtion on packets being recieved using the `prn` argument."
   ]
  },
  {
   "cell_type": "code",
   "execution_count": 309,
   "id": "dbb389f2",
   "metadata": {},
   "outputs": [
    {
     "name": "stdout",
     "output_type": "stream",
     "text": [
      "Ether / IP / TCP / TLS 52.182.143.210:443 > 172.31.72.58:48328 / TLS / Raw / TLS / TLS ChangeCipherSpec\n",
      "Ether / IP / TCP 172.31.72.58:48328 > 52.182.143.210:https A\n",
      "Ether / IP / TCP / TLS 172.31.72.58:48328 > 52.182.143.210:443 / TLS / TLS ChangeCipherSpec / TLS / TLS Handshake - Client Hello\n",
      "Ether / IP / UDP / NTP v4, server\n",
      "Ether / IP / UDP 172.31.64.1:53411 > 239.255.255.250:1900 / Raw\n",
      "Ether / IP / TCP / TLS 52.182.143.210:443 > 172.31.72.58:48328 / TLS / TLS Handshake - Server Hello / Padding\n",
      "Ether / IP / TCP 52.182.143.210:https > 172.31.72.58:48328 PA / _TLSEncryptedContent\n",
      "Ether / IP / TCP 172.31.72.58:48328 > 52.182.143.210:https A\n",
      "Ether / IP / TCP / TLS 172.31.72.58:48328 > 52.182.143.210:443 / TLS / TLS Application Data / Padding\n",
      "Ether / IP / TCP 172.31.72.58:48328 > 52.182.143.210:https PA / _TLSEncryptedContent\n"
     ]
    },
    {
     "data": {
      "text/plain": [
       "<Sniffed: TCP:8 UDP:2 ICMP:0 Other:0>"
      ]
     },
     "execution_count": 309,
     "metadata": {},
     "output_type": "execute_result"
    }
   ],
   "source": [
    "def packet_handler(packet):\n",
    "    print(packet.summary())\n",
    "    \n",
    "sniff(iface=\"eth0\", prn=packet_handler, count=10)"
   ]
  },
  {
   "cell_type": "markdown",
   "id": "a8a26386",
   "metadata": {},
   "source": [
    "We can also visualize our data using the `multiplot` function."
   ]
  },
  {
   "cell_type": "code",
   "execution_count": 310,
   "id": "300b5984",
   "metadata": {},
   "outputs": [
    {
     "data": {
      "text/plain": [
       "[[<matplotlib.lines.Line2D at 0x7f8726fc7550>],\n",
       " [<matplotlib.lines.Line2D at 0x7f8726fc7850>]]"
      ]
     },
     "execution_count": 310,
     "metadata": {},
     "output_type": "execute_result"
    },
    {
     "data": {
      "image/png": "[encoded data removed]",
      "text/plain": [
       "<Figure size 432x288 with 1 Axes>"
      ]
     },
     "metadata": {
      "needs_background": "light"
     },
     "output_type": "display_data"
    }
   ],
   "source": [
    "ans, unans = srloop(IP(dst=[\"8.8.8.8\", \"8.8.4.4\"])/ICMP(), inter=.1, timeout=.1, count=50, verbose=False)\n",
    "%matplotlib inline\n",
    "ans.multiplot(lambda x, y: (y[IP].src, (y.time, y[IP].id)), plot_xy=True)"
   ]
  },
  {
   "cell_type": "markdown",
   "id": "3045a4ec",
   "metadata": {},
   "source": [
    "We can also run a traceroute using the `traceroute` command."
   ]
  },
  {
   "cell_type": "code",
   "execution_count": 311,
   "id": "f3ba5a41",
   "metadata": {},
   "outputs": [
    {
     "name": "stdout",
     "output_type": "stream",
     "text": [
      "Begin emission\n",
      "**\n",
      "Finished sending 15 packets\n",
      "**********\n",
      "Received 12 packets, got 12 answers, remaining 3 packets\n",
      "   142.250.204.4:tcp80 \n",
      "1  172.31.64.1     11  \n",
      "2  192.168.1.1     11  \n",
      "6  192.178.97.217  11  \n",
      "7  142.251.64.177  11  \n",
      "8  142.250.204.4   SA  \n",
      "9  142.250.204.4   SA  \n",
      "10 142.250.204.4   SA  \n",
      "11 142.250.204.4   SA  \n",
      "12 142.250.204.4   SA  \n",
      "13 142.250.204.4   SA  \n",
      "14 142.250.204.4   SA  \n",
      "15 142.250.204.4   SA  \n",
      "<Traceroute: TCP:8 UDP:0 ICMP:4 Other:0> <Unanswered: TCP:3 UDP:0 ICMP:0 Other:0>\n"
     ]
    }
   ],
   "source": [
    "ans, unans = traceroute('www.google.com', maxttl=15)\n",
    "print(ans, unans)"
   ]
  },
  {
   "cell_type": "markdown",
   "id": "76d6462f",
   "metadata": {},
   "source": [
    "## Creating Custom Protocols Using Scapy\n",
    "\n",
    "We can use python's socket library in conjunction with scapy using `StreamSocket`"
   ]
  },
  {
   "cell_type": "code",
   "execution_count": 312,
   "id": "7a4237f9",
   "metadata": {},
   "outputs": [
    {
     "name": "stdout",
     "output_type": "stream",
     "text": [
      "Begin emission\n",
      "\n",
      "Finished sending 1 packets\n",
      "*\n",
      "Received 1 packets, got 1 answers, remaining 0 packets\n",
      "###[ DNS ]###\n",
      "  id        = 0\n",
      "  qr        = 1\n",
      "  opcode    = QUERY\n",
      "  aa        = 0\n",
      "  tc        = 0\n",
      "  rd        = 1\n",
      "  ra        = 1\n",
      "  z         = 0\n",
      "  ad        = 0\n",
      "  cd        = 0\n",
      "  rcode     = ok\n",
      "  qdcount   = 1\n",
      "  ancount   = 1\n",
      "  nscount   = 0\n",
      "  arcount   = 0\n",
      "  \\qd        \\\n",
      "   |###[ DNS Question Record ]###\n",
      "   |  qname     = b'www.google.com.'\n",
      "   |  qtype     = A\n",
      "   |  unicastresponse= 0\n",
      "   |  qclass    = IN\n",
      "  \\an        \\\n",
      "   |###[ DNS Resource Record ]###\n",
      "   |  rrname    = b'www.google.com.'\n",
      "   |  type      = A\n",
      "   |  cacheflush= 0\n",
      "   |  rclass    = IN\n",
      "   |  ttl       = 174\n",
      "   |  rdlen     = None\n",
      "   |  rdata     = 142.250.204.4\n",
      "  \\ns        \\\n",
      "  \\ar        \\\n",
      "\n",
      "None\n"
     ]
    }
   ],
   "source": [
    "import socket\n",
    "from scapy.layers.dns import DNS\n",
    "\n",
    "sck = socket.socket(socket.AF_INET, socket.SOCK_DGRAM, socket.IPPROTO_UDP)\n",
    "sck.connect((\"8.8.8.8\", 53))\n",
    "\n",
    "ssck = StreamSocket(sck, DNS) # (Socket, Base Protocol Class)\n",
    "\n",
    "# Send the DNS query\n",
    "packet = ssck.sr1(DNS(rd=1, qd=DNSQR(qname=\"www.google.com\")))\n",
    "print(packet.show())\n",
    "\n",
    "sck.close()"
   ]
  },
  {
   "cell_type": "markdown",
   "id": "ce0e6a7d",
   "metadata": {},
   "source": [
    "We can define our own stream socket packet base class alowing implementation of our own protocols."
   ]
  },
  {
   "cell_type": "code",
   "execution_count": 313,
   "id": "8855836d",
   "metadata": {},
   "outputs": [
    {
     "data": {
      "text/plain": [
       "<DNSTCP  len=33 dns=<DNS  id=0 qr=0 opcode=QUERY aa=0 tc=0 rd=1 ra=0 z=0 ad=0 cd=0 rcode=ok qdcount=1 ancount=0 nscount=0 arcount=0 qd=[<DNSQR  qname=b'www.example.com.' qtype=A unicastresponse=0 qclass=IN |>] |> |>"
      ]
     },
     "execution_count": 313,
     "metadata": {},
     "output_type": "execute_result"
    }
   ],
   "source": [
    "class DNSTCP(Packet):\n",
    "    name = \"DNS over TCP\"\n",
    "    \n",
    "    fields_desc = [ FieldLenField(\"len\", None, fmt=\"!H\", length_of=\"dns\"),\n",
    "                    PacketLenField(\"dns\", 0, DNS, length_from=lambda p: p.len)]\n",
    "    \n",
    "    # This method tells Scapy that the next packet must be decoded with DNSTCP\n",
    "    def guess_payload_class(self, payload):\n",
    "        return DNSTCP\n",
    "    \n",
    "# Build then decode a DNS message over TCP\n",
    "DNSTCP(raw(DNSTCP(dns=DNS())))"
   ]
  },
  {
   "cell_type": "code",
   "execution_count": 314,
   "id": "911b271b",
   "metadata": {},
   "outputs": [
    {
     "name": "stdout",
     "output_type": "stream",
     "text": [
      "Begin emission\n",
      "\n",
      "Finished sending 1 packets\n",
      "*\n",
      "Received 1 packets, got 1 answers, remaining 0 packets\n",
      "###[ DNS over TCP ]###\n",
      "  len       = 48\n",
      "  \\dns       \\\n",
      "   |###[ DNS ]###\n",
      "   |  id        = 0\n",
      "   |  qr        = 1\n",
      "   |  opcode    = QUERY\n",
      "   |  aa        = 0\n",
      "   |  tc        = 0\n",
      "   |  rd        = 1\n",
      "   |  ra        = 1\n",
      "   |  z         = 0\n",
      "   |  ad        = 0\n",
      "   |  cd        = 0\n",
      "   |  rcode     = ok\n",
      "   |  qdcount   = 1\n",
      "   |  ancount   = 1\n",
      "   |  nscount   = 0\n",
      "   |  arcount   = 0\n",
      "   |  \\qd        \\\n",
      "   |   |###[ DNS Question Record ]###\n",
      "   |   |  qname     = b'www.google.com.'\n",
      "   |   |  qtype     = A\n",
      "   |   |  unicastresponse= 0\n",
      "   |   |  qclass    = IN\n",
      "   |  \\an        \\\n",
      "   |   |###[ DNS Resource Record ]###\n",
      "   |   |  rrname    = b'www.google.com.'\n",
      "   |   |  type      = A\n",
      "   |   |  cacheflush= 0\n",
      "   |   |  rclass    = IN\n",
      "   |   |  ttl       = 170\n",
      "   |   |  rdlen     = None\n",
      "   |   |  rdata     = 142.250.204.4\n",
      "   |  \\ns        \\\n",
      "   |  \\ar        \\\n",
      "\n",
      "None\n"
     ]
    }
   ],
   "source": [
    "import socket\n",
    "\n",
    "sck = socket.socket(socket.AF_INET, socket.SOCK_STREAM)  # create an TCP socket\n",
    "sck.connect((\"8.8.8.8\", 53))  # connect to 8.8.8.8 on 53/TCP\n",
    "\n",
    "# Create the StreamSocket and gives the class used to decode the answer\n",
    "ssck = StreamSocket(sck, DNSTCP)\n",
    "\n",
    "# Send the DNS query\n",
    "packet = ssck.sr1(DNSTCP(dns=DNS(rd=1, qd=DNSQR(qname=\"www.google.com\"))))\n",
    "print(packet.show())"
   ]
  }
 ],
 "metadata": {
  "kernelspec": {
   "display_name": "Python 3 (ipykernel)",
   "language": "python",
   "name": "python3"
  },
  "language_info": {
   "codemirror_mode": {
    "name": "ipython",
    "version": 3
   },
   "file_extension": ".py",
   "mimetype": "text/x-python",
   "name": "python",
   "nbconvert_exporter": "python",
   "pygments_lexer": "ipython3",
   "version": "3.10.12"
  }
 },
 "nbformat": 4,
 "nbformat_minor": 5
}
